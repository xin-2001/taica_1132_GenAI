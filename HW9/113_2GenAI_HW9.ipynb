{
  "nbformat": 4,
  "nbformat_minor": 0,
  "metadata": {
    "colab": {
      "provenance": [],
      "authorship_tag": "ABX9TyPp8rMNFIsibELodkLJjhyh",
      "include_colab_link": true
    },
    "kernelspec": {
      "name": "python3",
      "display_name": "Python 3"
    },
    "language_info": {
      "name": "python"
    }
  },
  "cells": [
    {
      "cell_type": "markdown",
      "metadata": {
        "id": "view-in-github",
        "colab_type": "text"
      },
      "source": [
        "<a href=\"https://colab.research.google.com/github/xin-2001/taica_1132_GenAI/blob/main/HW9/113_2GenAI_HW9.ipynb\" target=\"_parent\"><img src=\"https://colab.research.google.com/assets/colab-badge.svg\" alt=\"Open In Colab\"/></a>"
      ]
    },
    {
      "cell_type": "markdown",
      "source": [
        "# 固定風格生圖\n",
        "- 選定一種風格，試著生出各種圖片。\n",
        "- Bing一個帳號每天會有15次快速生成，每次都會生成4張圖片。\n",
        "  - 由於Bing有字數限制，我使用同公司的Copilot進行相同風格圖生成。\n",
        "- 用完快速生成次數後依然是免費生圖，但速度會慢許多。\n",
        "- 其餘延伸由同學自由發揮。\n",
        "- 可以繳交colab連結，也可以繳交PDF檔。"
      ],
      "metadata": {
        "id": "CfFOC8GvPrkZ"
      }
    },
    {
      "cell_type": "markdown",
      "source": [
        "## 設定風格prompt\n",
        "- 使用LLM幫忙想特定風格的prompt，再進行微調。\n",
        "  1. 可以丟想要的圖的風格，請AI幫你描述圖的風格。\n",
        "  2. 請LLM依照你想要的風格生成prompt\n",
        "\n",
        "- 我整理出的風格要求\n",
        "  - 簡約背景\n",
        "  - 手繪感\n",
        "  - 柔和色調\n",
        "  - 筆觸柔和（像水彩或厚塗）\n",
        "  - 整體可愛溫暖（略帶淘氣感）\n",
        "  - 隱藏一隻柴犬在畫面中（不要搶主角）\n",
        "- 請LLM幫我依照我像要呈現的風格生成prompt\n",
        "  > Illustration in soft pastel tones, gentle hand-drawn look with watercolor or thick painterly strokes. Minimalistic and clean background, cozy and cute atmosphere with a hint of playful mischief. Characters are outlined with slightly thick lines. Flat coloring with subtle texture. A small Shiba Inu dog subtly hidden in the background, not stealing focus. Whimsical, heartwarming, and adorable overall style.\n",
        "  "
      ],
      "metadata": {
        "id": "oAonnMyrQKXm"
      }
    },
    {
      "cell_type": "markdown",
      "source": [
        "## 輸入的公式組合\n",
        "- 【場景描述】+【固定統一風格 prompt】\n",
        "- 例如:學校上課的樣子+prompt、超累的電腦工程師+prompt等\n",
        "  > 【場景描述】A tired computer engineer slumped over a desk full of monitors and coffee cups, exhausted but cute.\n",
        "  >\n",
        "  > 【固定統一風格 prompt】Illustration in soft pastel tones, gentle hand-drawn look with watercolor or thick painterly strokes. Minimalistic and clean background, cozy and cute atmosphere with a hint of playful mischief. Characters are outlined with slightly thick lines. Flat coloring with subtle texture. A small Shiba Inu dog subtly hidden in the background, not stealing focus. Whimsical, heartwarming, and adorable overall style."
      ],
      "metadata": {
        "id": "FE-dc328R3Ex"
      }
    },
    {
      "cell_type": "markdown",
      "source": [
        "## 結果展現"
      ],
      "metadata": {
        "id": "KqFup5N0TBMt"
      }
    },
    {
      "cell_type": "markdown",
      "source": [
        "1. A tired computer engineer slumped over a desk full of monitors and coffee cups, exhausted but cute. Illustration in soft pastel tones, gentle hand-drawn look with watercolor or thick painterly strokes. Minimalistic and clean background, cozy and cute atmosphere with a hint of playful mischief. Characters are outlined with slightly thick lines. Flat coloring with subtle texture. A small Shiba Inu dog subtly hidden in the background, not stealing focus. Whimsical, heartwarming, and adorable overall style.\n",
        "  > ![image.png](https://github.com/xin-2001/taica_1132_GenAI/blob/main/HW9/hw1.png?raw=true)"
      ],
      "metadata": {
        "id": "k4jEzzeDTGA8"
      }
    },
    {
      "cell_type": "markdown",
      "source": [
        "2. Two friends lying on a rooftop with blankets, gazing up at a starry sky.Illustration in soft pastel tones, gentle hand-drawn look with watercolor or thick painterly strokes. Minimalistic and clean background, cozy and cute atmosphere with a hint of playful mischief. Characters are outlined with slightly thick lines. Flat coloring with subtle texture. A small Shiba Inu dog subtly hidden in the background, not stealing focus. Whimsical, heartwarming, and adorable overall style.\n",
        "  > ![image.png](https://github.com/xin-2001/taica_1132_GenAI/blob/main/HW9/hw3.png?raw=true)"
      ],
      "metadata": {
        "id": "MeXIW8wATzWB"
      }
    },
    {
      "cell_type": "markdown",
      "source": [
        "3. A classroom scene where students are sitting at desks, listening attentively or dozing off slightly. Illustration in soft pastel tones, gentle hand-drawn look with watercolor or thick painterly strokes. Minimalistic and clean background, cozy and cute atmosphere with a hint of playful mischief. Characters are outlined with slightly thick lines. Flat coloring with subtle texture. A small Shiba Inu dog subtly hidden in the background, not stealing focus. Whimsical, heartwarming, and adorable overall style.\n",
        "  > ![image.png](https://github.com/xin-2001/taica_1132_GenAI/blob/main/HW9/hw4.png?raw=true)"
      ],
      "metadata": {
        "id": "_c0jNDw8UIi-"
      }
    },
    {
      "cell_type": "markdown",
      "source": [
        "4. A cozy coffee shop with a few people chatting or working on laptops, relaxed and calm atmosphere.Illustration in soft pastel tones, gentle hand-drawn look with watercolor or thick painterly strokes. Minimalistic and clean background, cozy and cute atmosphere with a hint of playful mischief. Characters are outlined with slightly thick lines. Flat coloring with subtle texture. A small Shiba Inu dog subtly hidden in the background, not stealing focus. Whimsical, heartwarming, and adorable overall style.\n",
        "  > ![image.png](https://github.com/xin-2001/taica_1132_GenAI/blob/main/HW9/hw5.png?raw=true)"
      ],
      "metadata": {
        "id": "WW84J7YYUUgt"
      }
    },
    {
      "cell_type": "markdown",
      "source": [
        "5. A cute hidden treehouse deep in a pastel-colored forest, surrounded by bushes and flowers. Illustration in soft pastel tones, gentle hand-drawn look with watercolor or thick painterly strokes. Minimalistic and clean background, cozy and cute atmosphere with a hint of playful mischief. Characters are outlined with slightly thick lines. Flat coloring with subtle texture. A small Shiba Inu dog subtly hidden in the background, not stealing focus. Whimsical, heartwarming, and adorable overall style.\n",
        "  > ![image.png](https://github.com/xin-2001/taica_1132_GenAI/blob/main/HW9/hw6.png?raw=true)"
      ],
      "metadata": {
        "id": "BWXQQE9uUl9U"
      }
    },
    {
      "cell_type": "markdown",
      "source": [
        "6. A quiet library where someone secretly reads a comic book between the serious study sessions. Illustration in soft pastel tones, gentle hand-drawn look with watercolor or thick painterly strokes. Minimalistic and clean background, cozy and cute atmosphere with a hint of playful mischief. Characters are outlined with slightly thick lines. Flat coloring with subtle texture. A small Shiba Inu dog subtly hidden in the background, not stealing focus. Whimsical, heartwarming, and adorable overall style.\n",
        "  > ![image.png](https://github.com/xin-2001/taica_1132_GenAI/blob/main/HW9/hw7.png?raw=true)"
      ],
      "metadata": {
        "id": "WTrGHd_aUmF_"
      }
    },
    {
      "cell_type": "markdown",
      "source": [
        "7. Snowy outdoor scene with kids building a snowman, wearing colorful scarves and mittens.Illustration in soft pastel tones, gentle hand-drawn look with watercolor or thick painterly strokes. Minimalistic and clean background, cozy and cute atmosphere with a hint of playful mischief. Characters are outlined with slightly thick lines. Flat coloring with subtle texture. A small Shiba Inu dog subtly hidden in the background, not stealing focus. Whimsical, heartwarming, and adorable overall style.\n",
        "  > ![image.png](https://github.com/xin-2001/taica_1132_GenAI/blob/main/HW9/hw8.png?raw=true)"
      ],
      "metadata": {
        "id": "ubsep0ryUmNs"
      }
    },
    {
      "cell_type": "markdown",
      "source": [
        "8. A sunny park scene with kites flying in the sky, people laughing and running around. Illustration in soft pastel tones, gentle hand-drawn look with watercolor or thick painterly strokes. Minimalistic and clean background, cozy and cute atmosphere with a hint of playful mischief. Characters are outlined with slightly thick lines. Flat coloring with subtle texture. A small Shiba Inu dog subtly hidden in the background, not stealing focus. Whimsical, heartwarming, and adorable overall style.\n",
        "  > ![image.png](https://github.com/xin-2001/taica_1132_GenAI/blob/main/HW9/hw9.png?raw=true)"
      ],
      "metadata": {
        "id": "55Af-haNUmUt"
      }
    },
    {
      "cell_type": "markdown",
      "source": [
        "9. A lively festival parade with people wearing costumes and carrying colorful flags.Illustration in soft pastel tones, gentle hand-drawn look with watercolor or thick painterly strokes. Minimalistic and clean background, cozy and cute atmosphere with a hint of playful mischief. Characters are outlined with slightly thick lines. Flat coloring with subtle texture. A small Shiba Inu dog subtly hidden in the background, not stealing focus. Whimsical, heartwarming, and adorable overall style.\n",
        "  > ![image.png](https://github.com/xin-2001/taica_1132_GenAI/blob/main/HW9/hw10.png?raw=true)"
      ],
      "metadata": {
        "id": "4Nu09LisUmgs"
      }
    },
    {
      "cell_type": "markdown",
      "source": [
        "10. Friends are sitting on a checkered picnic blanket on the grass, surrounded by snacks, drinks, and flowers, enjoying a relaxing afternoon.Illustration in soft pastel tones, gentle hand-drawn look with watercolor or thick painterly strokes. Minimalistic and clean background, cozy and cute atmosphere with a hint of playful mischief. Characters are outlined with slightly thick lines. Flat coloring with subtle texture. A small Shiba Inu dog subtly hidden in the background, not stealing focus. Whimsical, heartwarming, and adorable overall style.\n",
        "  > ![image.png](https://github.com/xin-2001/taica_1132_GenAI/blob/main/HW9/hw11.png?raw=true)"
      ],
      "metadata": {
        "id": "w7mxLD7BVQVQ"
      }
    },
    {
      "cell_type": "markdown",
      "source": [
        "11. A bustling night market with colorful stalls and strings of lanterns, people browsing and happily tasting different street foods.Illustration in soft pastel tones, gentle hand-drawn look with watercolor or thick painterly strokes. Minimalistic and clean background, cozy and cute atmosphere with a hint of playful mischief. Characters are outlined with slightly thick lines. Flat coloring with subtle texture. A small Shiba Inu dog subtly hidden in the background, not stealing focus. Whimsical, heartwarming, and adorable overall style.\n",
        "  > ![image.png](https://github.com/xin-2001/taica_1132_GenAI/blob/main/HW9/hw12.png?raw=true)"
      ],
      "metadata": {
        "id": "gHYl6UaoVQbi"
      }
    },
    {
      "cell_type": "markdown",
      "source": [
        "12. Wide open field at sunrise, dozens of colorful hot air balloons slowly rising into the soft morning sky, with people watching from the ground.Illustration in soft pastel tones, gentle hand-drawn look with watercolor or thick painterly strokes. Minimalistic and clean background, cozy and cute atmosphere with a hint of playful mischief. Characters are outlined with slightly thick lines. Flat coloring with subtle texture. A small Shiba Inu dog subtly hidden in the background, not stealing focus. Whimsical, heartwarming, and adorable overall style.\n",
        "  > ![image.png](https://github.com/xin-2001/taica_1132_GenAI/blob/main/HW9/hw13.png?raw=true)"
      ],
      "metadata": {
        "id": "q2kSoFc8VQe8"
      }
    },
    {
      "cell_type": "markdown",
      "source": [
        "13. A cozy independent bookstore with wooden shelves packed with books, customers quietly browsing or reading in little corners.Illustration in soft pastel tones, gentle hand-drawn look with watercolor or thick painterly strokes. Minimalistic and clean background, cozy and cute atmosphere with a hint of playful mischief. Characters are outlined with slightly thick lines. Flat coloring with subtle texture. A small Shiba Inu dog subtly hidden in the background, not stealing focus. Whimsical, heartwarming, and adorable overall style.\n",
        "  > ![image.png](https://github.com/xin-2001/taica_1132_GenAI/blob/main/HW9/hw14.png?raw=true)"
      ],
      "metadata": {
        "id": "Blhtyq64VQih"
      }
    },
    {
      "cell_type": "markdown",
      "source": [
        "14. A backyard garden filled with blooming flowers, a person gently watering plants while butterflies flutter around.Illustration in soft pastel tones, gentle hand-drawn look with watercolor or thick painterly strokes. Minimalistic and clean background, cozy and cute atmosphere with a hint of playful mischief. Characters are outlined with slightly thick lines. Flat coloring with subtle texture. A small Shiba Inu dog subtly hidden in the background, not stealing focus. Whimsical, heartwarming, and adorable overall style.\n",
        "  > ![image.png](https://github.com/xin-2001/taica_1132_GenAI/blob/main/HW9/hw15.png?raw=true)"
      ],
      "metadata": {
        "id": "f-TwQJ4PVQmn"
      }
    },
    {
      "cell_type": "markdown",
      "source": [
        "15. A cheerful birthday party scene with balloons, cake, and smiling friends around a table.Illustration in soft pastel tones, gentle hand-drawn look with watercolor or thick painterly strokes. Minimalistic and clean background, cozy and cute atmosphere with a hint of playful mischief. Characters are outlined with slightly thick lines. Flat coloring with subtle texture. A small Shiba Inu dog subtly hidden in the background, not stealing focus. Whimsical, heartwarming, and adorable overall style.\n",
        "  > ![image.png](https://github.com/xin-2001/taica_1132_GenAI/blob/main/HW9/hw2.png?raw=true)"
      ],
      "metadata": {
        "id": "0xmFP6M4VQp7"
      }
    },
    {
      "cell_type": "markdown",
      "source": [
        "16. A cozy cabin in the forest, a small group sitting around a campfire roasting marshmallows under a starlit sky.Illustration in soft pastel tones, gentle hand-drawn look with watercolor or thick painterly strokes. Minimalistic and clean background, cozy and cute atmosphere with a hint of playful mischief. Characters are outlined with slightly thick lines. Flat coloring with subtle texture. A small Shiba Inu dog subtly hidden in the background, not stealing focus. Whimsical, heartwarming, and adorable overall style.\n",
        "  > ![image.png](https://github.com/xin-2001/taica_1132_GenAI/blob/main/HW9/hw16.png?raw=true)"
      ],
      "metadata": {
        "id": "hEnjF5zoVQtb"
      }
    },
    {
      "cell_type": "markdown",
      "source": [
        "17. A sandy beach with sparkling waves, people walking along the shore picking up seashells, feeling the breeze.Illustration in soft pastel tones, gentle hand-drawn look with watercolor or thick painterly strokes. Minimalistic and clean background, cozy and cute atmosphere with a hint of playful mischief. Characters are outlined with slightly thick lines. Flat coloring with subtle texture. A small Shiba Inu dog subtly hidden in the background, not stealing focus. Whimsical, heartwarming, and adorable overall style.\n",
        "  > ![image.png](https://github.com/xin-2001/taica_1132_GenAI/blob/main/HW9/hw17.png?raw=true)"
      ],
      "metadata": {
        "id": "_QEU4SDeVQ1N"
      }
    },
    {
      "cell_type": "markdown",
      "source": [
        "18. A festive outdoor market decorated with lights and wreaths, people shopping for handmade gifts and sipping hot drinks.Illustration in soft pastel tones, gentle hand-drawn look with watercolor or thick painterly strokes. Minimalistic and clean background, cozy and cute atmosphere with a hint of playful mischief. Characters are outlined with slightly thick lines. Flat coloring with subtle texture. A small Shiba Inu dog subtly hidden in the background, not stealing focus. Whimsical, heartwarming, and adorable overall style.\n",
        "  > ![image.png](https://github.com/xin-2001/taica_1132_GenAI/blob/main/HW9/hw18.png?raw=true)"
      ],
      "metadata": {
        "id": "BWzsWUMIWMZ1"
      }
    },
    {
      "cell_type": "markdown",
      "source": [
        "19. A green city park early in the morning, joggers passing by colorful flowerbeds and tall trees under a clear blue sky.Illustration in soft pastel tones, gentle hand-drawn look with watercolor or thick painterly strokes. Minimalistic and clean background, cozy and cute atmosphere with a hint of playful mischief. Characters are outlined with slightly thick lines. Flat coloring with subtle texture. A small Shiba Inu dog subtly hidden in the background, not stealing focus. Whimsical, heartwarming, and adorable overall style.\n",
        "  > ![image.png](https://github.com/xin-2001/taica_1132_GenAI/blob/main/HW9/hw19.png?raw=true)"
      ],
      "metadata": {
        "id": "1GhfWfpYWMiM"
      }
    },
    {
      "cell_type": "markdown",
      "source": [
        "20. A rainy city street scene with characters holding colorful umbrellas and puddles on the ground.Illustration in soft pastel tones, gentle hand-drawn look with watercolor or thick painterly strokes. Minimalistic and clean background, cozy and cute atmosphere with a hint of playful mischief. Characters are outlined with slightly thick lines. Flat coloring with subtle texture. A small Shiba Inu dog subtly hidden in the background, not stealing focus. Whimsical, heartwarming, and adorable overall style.\n",
        "  > ![image.png](https://github.com/xin-2001/taica_1132_GenAI/blob/main/HW9/hw20.png?raw=true)"
      ],
      "metadata": {
        "id": "XHvNua76WMxM"
      }
    }
  ]
}