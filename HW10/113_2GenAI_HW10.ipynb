{
  "nbformat": 4,
  "nbformat_minor": 0,
  "metadata": {
    "colab": {
      "provenance": [],
      "gpuType": "T4",
      "private_outputs": true,
      "include_colab_link": true
    },
    "kernelspec": {
      "name": "python3",
      "display_name": "Python 3"
    },
    "language_info": {
      "name": "python"
    },
    "accelerator": "GPU"
  },
  "cells": [
    {
      "cell_type": "markdown",
      "metadata": {
        "id": "view-in-github",
        "colab_type": "text"
      },
      "source": [
        "<a href=\"https://colab.research.google.com/github/xin-2001/taica_1132_GenAI/blob/main/HW10/113_2GenAI_HW10.ipynb\" target=\"_parent\"><img src=\"https://colab.research.google.com/assets/colab-badge.svg\" alt=\"Open In Colab\"/></a>"
      ]
    },
    {
      "cell_type": "markdown",
      "source": [
        "# 【Demo08】用diffusers套件生成圖像"
      ],
      "metadata": {
        "id": "UJbBE4r0puGe"
      }
    },
    {
      "cell_type": "markdown",
      "source": [
        "# 🖼️ 用 diffusers 套件生成圖像 (學習篇)"
      ],
      "metadata": {
        "id": "YdVglWFsIKNW"
      }
    },
    {
      "cell_type": "markdown",
      "source": [
        "### 1. 安裝必要套件"
      ],
      "metadata": {
        "id": "Yn2lCLC00ZOV"
      }
    },
    {
      "cell_type": "code",
      "source": [
        "!pip install diffusers transformers accelerate safetensors huggingface_hub gradio --upgrade"
      ],
      "metadata": {
        "id": "RbQso1-V3jEu"
      },
      "execution_count": null,
      "outputs": []
    },
    {
      "cell_type": "code",
      "source": [
        "from diffusers import StableDiffusionPipeline, UniPCMultistepScheduler\n",
        "import torch\n",
        "import gc\n",
        "import matplotlib.pyplot as plt"
      ],
      "metadata": {
        "id": "Uv6Qa39q0gAZ"
      },
      "execution_count": null,
      "outputs": []
    },
    {
      "cell_type": "markdown",
      "source": [
        "萬一需要 HuggingFace Token 時請這樣做"
      ],
      "metadata": {
        "id": "uTAQrntqQufd"
      }
    },
    {
      "cell_type": "code",
      "source": [
        "from huggingface_hub import login\n",
        "from google.colab import userdata\n",
        "\n",
        "hf_token = userdata.get('Hugging_face')\n",
        "login(token=hf_token)"
      ],
      "metadata": {
        "id": "qYDkE1CnpVvz"
      },
      "execution_count": null,
      "outputs": []
    },
    {
      "cell_type": "code",
      "source": [],
      "metadata": {
        "id": "uSnJteNj50di"
      },
      "execution_count": null,
      "outputs": []
    },
    {
      "cell_type": "markdown",
      "source": [
        "### 2. 讀入模型"
      ],
      "metadata": {
        "id": "KZIGLD4y0idi"
      }
    },
    {
      "cell_type": "code",
      "source": [
        "model_name = \"ashiqabdulkhader/shiba-dog\""
      ],
      "metadata": {
        "id": "2Lr8hGzggROl"
      },
      "execution_count": null,
      "outputs": []
    },
    {
      "cell_type": "markdown",
      "source": [
        "為了固定 random seed, 請在這裡選一個吉祥的數字。"
      ],
      "metadata": {
        "id": "-0BYaSqCRU1Z"
      }
    },
    {
      "cell_type": "code",
      "source": [
        "N = 31327"
      ],
      "metadata": {
        "id": "tGV3BbnIRR3i"
      },
      "execution_count": null,
      "outputs": []
    },
    {
      "cell_type": "code",
      "source": [
        "pipe = StableDiffusionPipeline.from_pretrained(model_name, torch_dtype=torch.float16, use_auth_token=True).to(\"cuda\")"
      ],
      "metadata": {
        "id": "AFO7ZW4a-s17"
      },
      "execution_count": null,
      "outputs": []
    },
    {
      "cell_type": "code",
      "source": [
        "image = pipe(prompt=\"a cute dog\").images[0] # Added prompt=\"a Shiba Inu dog\"\n",
        "image"
      ],
      "metadata": {
        "collapsed": true,
        "id": "AgqSSvYC-3Qb"
      },
      "execution_count": null,
      "outputs": []
    },
    {
      "cell_type": "code",
      "source": [
        "# pipe = StableDiffusionPipeline.from_pretrained(\n",
        "#     model_name,\n",
        "#     torch_dtype=torch.float16,\n",
        "#     #revision=\"fp16\",  # for SD 1.5 and 2.1\n",
        "#     use_safetensors=True\n",
        "# ).to(\"cuda\")"
      ],
      "metadata": {
        "id": "K5I-aj2Zln-_"
      },
      "execution_count": null,
      "outputs": []
    },
    {
      "cell_type": "markdown",
      "source": [
        "### 3. 基本生圖"
      ],
      "metadata": {
        "id": "oGpMA5u2UYHw"
      }
    },
    {
      "cell_type": "code",
      "source": [
        "# 解析度\n",
        "height = 512\n",
        "width = 768\n",
        "\n",
        "# 推理步數\n",
        "num_inference_steps = 50\n",
        "\n",
        "# 指引強度\n",
        "guidance_scale = 7.5"
      ],
      "metadata": {
        "id": "zuIfG1bEgUMS"
      },
      "execution_count": null,
      "outputs": []
    },
    {
      "cell_type": "code",
      "source": [
        "gc.collect()\n",
        "torch.cuda.empty_cache()"
      ],
      "metadata": {
        "id": "a9gcTEvQly7d"
      },
      "execution_count": null,
      "outputs": []
    },
    {
      "cell_type": "code",
      "source": [
        "prompt = \"A Shiba Inu playing in a cafe\""
      ],
      "metadata": {
        "id": "xuv3P5Da6YXJ"
      },
      "execution_count": null,
      "outputs": []
    },
    {
      "cell_type": "code",
      "source": [
        "# 固定 random seed\n",
        "seed = N\n",
        "generator = torch.Generator(\"cuda\").manual_seed(seed)"
      ],
      "metadata": {
        "id": "rCJb_A_mUVsD"
      },
      "execution_count": null,
      "outputs": []
    },
    {
      "cell_type": "code",
      "source": [
        "image_basic = pipe(\n",
        "    prompt=prompt,\n",
        "    height=height,\n",
        "    width=width,\n",
        "    num_inference_steps=num_inference_steps,\n",
        "    guidance_scale=guidance_scale,\n",
        "    generator=generator\n",
        ").images[0]"
      ],
      "metadata": {
        "id": "anPxpdk_ly_-"
      },
      "execution_count": null,
      "outputs": []
    },
    {
      "cell_type": "code",
      "source": [
        "#測試\n",
        "plt.imshow(image_basic)\n",
        "plt.axis(\"off\")"
      ],
      "metadata": {
        "id": "dY1Knq7X6iCS"
      },
      "execution_count": null,
      "outputs": []
    },
    {
      "cell_type": "markdown",
      "source": [
        "### 4. Prompt 優化\n",
        "\n",
        "#### 4-1 加入 Negative Prompt"
      ],
      "metadata": {
        "id": "5YoyxsSgRgHw"
      }
    },
    {
      "cell_type": "code",
      "source": [
        "gc.collect()\n",
        "torch.cuda.empty_cache()"
      ],
      "metadata": {
        "id": "y7RHoHE0fRZK"
      },
      "execution_count": null,
      "outputs": []
    },
    {
      "cell_type": "markdown",
      "source": [
        "easynegative, human, lowres, bad anatomy, bad hands, text, error, missing fingers, extra digit, fewer digits, cropped, worstquality, low quality, normal quality, jpegartifacts, signature, watermark, username, blurry, bad feet, cropped, poorly drawn hands, poorly drawn face, mutation, deformed, worst quality, low quality, normal quality, jpeg artifacts, signature, watermark, extra fingers, fewer digits, extra limbs, extra arms,extra legs, malformed limbs, fused fingers, too many fingers, long neck, cross-eyed,mutated hands, polar lowres, bad body, bad proportions, gross proportions, text, error, missing fingers, missing arms, missing legs, extra digit, extra arms, extra leg, extra foot"
      ],
      "metadata": {
        "id": "ACmWvHmlC8af"
      }
    },
    {
      "cell_type": "code",
      "source": [
        "negative_prompt = \"ugly animal,unattractive pet,poorly groomed fur,messy coat,awkward pose,bad anatomy,mutated limbs,deformed body,low quality image,blurry photo,jpeg artifacts,bad proportions,missing limbs,extra limbs,cropped image,worst quality,low resolution,watermark,signature\""
      ],
      "metadata": {
        "id": "CVBcaZeY6lPG"
      },
      "execution_count": null,
      "outputs": []
    },
    {
      "cell_type": "code",
      "source": [
        "seed = N\n",
        "generator = torch.Generator(\"cuda\").manual_seed(seed)"
      ],
      "metadata": {
        "id": "NfDVFNHVfEbH"
      },
      "execution_count": null,
      "outputs": []
    },
    {
      "cell_type": "code",
      "source": [
        "image_ng_prompt = pipe(\n",
        "    prompt=prompt,\n",
        "    negative_prompt=negative_prompt,\n",
        "    height=height,\n",
        "    width=width,\n",
        "    num_inference_steps=num_inference_steps,\n",
        "    guidance_scale=guidance_scale,\n",
        "    generator=generator\n",
        ").images[0]"
      ],
      "metadata": {
        "id": "qiGjnYOC6XPA"
      },
      "execution_count": null,
      "outputs": []
    },
    {
      "cell_type": "code",
      "source": [
        "plt.imshow(image_ng_prompt)\n",
        "plt.axis(\"off\")"
      ],
      "metadata": {
        "id": "uCCVvNsAlzDo"
      },
      "execution_count": null,
      "outputs": []
    },
    {
      "cell_type": "markdown",
      "source": [
        "#### 4-2 優化原有的 prompt"
      ],
      "metadata": {
        "id": "rree3lKdThuS"
      }
    },
    {
      "cell_type": "code",
      "source": [
        "gc.collect()\n",
        "torch.cuda.empty_cache()"
      ],
      "metadata": {
        "id": "UNujSKIZTumv"
      },
      "execution_count": null,
      "outputs": []
    },
    {
      "cell_type": "code",
      "source": [
        "enhanced_prompt = prompt + \", masterpiece, ultra high quality, intricate skin details, cinematic lighting\""
      ],
      "metadata": {
        "id": "mvSBDtVPTpCt"
      },
      "execution_count": null,
      "outputs": []
    },
    {
      "cell_type": "code",
      "source": [
        "seed = N\n",
        "generator = torch.Generator(\"cuda\").manual_seed(seed)"
      ],
      "metadata": {
        "id": "tl_4258JTrzN"
      },
      "execution_count": null,
      "outputs": []
    },
    {
      "cell_type": "code",
      "source": [
        "image_ng_prompt = pipe(\n",
        "    prompt=enhanced_prompt,\n",
        "    negative_prompt=negative_prompt,\n",
        "    height=height,\n",
        "    width=width,\n",
        "    num_inference_steps=num_inference_steps,\n",
        "    guidance_scale=guidance_scale,\n",
        "    generator=generator\n",
        ").images[0]"
      ],
      "metadata": {
        "id": "WpqOl_EfTzpa"
      },
      "execution_count": null,
      "outputs": []
    },
    {
      "cell_type": "code",
      "source": [
        "plt.imshow(image_ng_prompt)\n",
        "plt.axis(\"off\")"
      ],
      "metadata": {
        "id": "brHfFDroUBWQ"
      },
      "execution_count": null,
      "outputs": []
    },
    {
      "cell_type": "markdown",
      "source": [
        "### 5. 換新的排程器"
      ],
      "metadata": {
        "id": "sL2fkGmJlasP"
      }
    },
    {
      "cell_type": "code",
      "source": [
        "# 換成 UniPCMultistepScheduler\n",
        "pipe.scheduler = UniPCMultistepScheduler.from_config(pipe.scheduler.config)"
      ],
      "metadata": {
        "id": "VdSi-9BygyjQ"
      },
      "execution_count": null,
      "outputs": []
    },
    {
      "cell_type": "markdown",
      "source": [
        "#### 如果需要, 重新修改 prompt"
      ],
      "metadata": {
        "id": "SubBnUK3VMQ9"
      }
    },
    {
      "cell_type": "code",
      "source": [
        "prompt = \"Many Shiba Inus playing in the playground\"\n",
        "\n",
        "enhanced_prompt = prompt + \", masterpiece, ultra high quality, intricate skin details, cinematic lighting\"\n",
        "negative_prompt = \"ugly animal,unattractive pet,poorly groomed fur,messy coat,awkward pose,bad anatomy,mutated limbs,deformed body,low quality image,blurry photo,jpeg artifacts,bad proportions,missing limbs,extra limbs,cropped image,worst quality,low resolution,watermark,signature,distorted face,unnatural expression,cartoonish features,exaggerated smile,weird eyes,awkward facial pose,unappealing face,strange mouth,bad facial anatomy,mutated face,deformed features,creepy expression\""
      ],
      "metadata": {
        "id": "kJ7PVvrgVnmh"
      },
      "execution_count": null,
      "outputs": []
    },
    {
      "cell_type": "code",
      "source": [
        "# 清除記憶體\n",
        "gc.collect()\n",
        "torch.cuda.empty_cache()"
      ],
      "metadata": {
        "id": "RZAOMWNQgynI"
      },
      "execution_count": null,
      "outputs": []
    },
    {
      "cell_type": "code",
      "source": [
        "seed = N\n",
        "generator = torch.Generator(\"cuda\").manual_seed(seed)"
      ],
      "metadata": {
        "id": "bXdV5sPcUozP"
      },
      "execution_count": null,
      "outputs": []
    },
    {
      "cell_type": "code",
      "source": [
        "image_strong = pipe(\n",
        "        prompt=enhanced_prompt,\n",
        "        negative_prompt=negative_prompt,\n",
        "        height=height,\n",
        "        width=width,\n",
        "        num_inference_steps=50,\n",
        "        #num_inference_steps=num_inference_steps,\n",
        "        guidance_scale=guidance_scale,\n",
        "        generator=generator\n",
        "        ).images[0]"
      ],
      "metadata": {
        "id": "GP7g3ToZgyqh"
      },
      "execution_count": null,
      "outputs": []
    },
    {
      "cell_type": "code",
      "source": [
        "plt.imshow(image_strong)\n",
        "plt.axis(\"off\")"
      ],
      "metadata": {
        "id": "ieApacu8gytj"
      },
      "execution_count": null,
      "outputs": []
    },
    {
      "cell_type": "code",
      "source": [],
      "metadata": {
        "id": "WgdiZphDVc0x"
      },
      "execution_count": null,
      "outputs": []
    }
  ]
}