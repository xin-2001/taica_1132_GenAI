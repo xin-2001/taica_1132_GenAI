{
  "nbformat": 4,
  "nbformat_minor": 0,
  "metadata": {
    "colab": {
      "provenance": [],
      "authorship_tag": "ABX9TyPfjNknixc9rEkDPzNnYbd6",
      "include_colab_link": true
    },
    "kernelspec": {
      "name": "python3",
      "display_name": "Python 3"
    },
    "language_info": {
      "name": "python"
    }
  },
  "cells": [
    {
      "cell_type": "markdown",
      "metadata": {
        "id": "view-in-github",
        "colab_type": "text"
      },
      "source": [
        "<a href=\"https://colab.research.google.com/github/xin-2001/taica_1132_GenAI/blob/main/HW3/113_2GenAI_HW3_2.ipynb\" target=\"_parent\"><img src=\"https://colab.research.google.com/assets/colab-badge.svg\" alt=\"Open In Colab\"/></a>"
      ]
    },
    {
      "cell_type": "markdown",
      "source": [
        "# 作業三-2\n",
        "1. 找一個GAN模型來實際操作，並且試著多生幾張圖片。(上課沒說過的也可以)\n",
        "\n",
        "  繳交方式：\n",
        "  - 寫明是主題幾。\n",
        "  - 附上該模型來源(連結)，並簡單介紹這個模型。\n",
        "  - 同主題多生成幾張，並且附上輸入/輸出圖。(最多五組)\n",
        "  - 比較看看，為什麼現在較沒有人在使用GAN來生圖？\n",
        "  - 可以自行增加其他內容。\n",
        "\n",
        "  (為了助教們批改作業時閱讀順利，請將同一組輸入/輸出合併在一起為一張圖片)\n",
        "\n",
        "\n",
        "---- 以下主題請以 Colab + 截圖的方式繳交，也可以繳交pdf檔。----\n",
        "\n",
        "2. 研究GAN背後原理，試著用自己的方式解釋Cross Entropy、KL divergence。\n",
        "  (延伸內容：實際計算、比較兩者的效果、程式實驗、使用情境等等)\n",
        "\n",
        "  繳交方式：\n",
        "  - 寫明是主題幾。\n",
        "  - colab連結(請記得將共用權限打開)or附上pdf檔。\n",
        "  - 請在重點處以 MarkDown 註明，並且貼上重點截圖。\n",
        "  - 也可以自行增加內容。"
      ],
      "metadata": {
        "id": "8Fq4-df1fviH"
      }
    },
    {
      "cell_type": "markdown",
      "source": [
        "## 基本套件"
      ],
      "metadata": {
        "id": "ou3i-TUN5UPc"
      }
    },
    {
      "cell_type": "code",
      "execution_count": null,
      "metadata": {
        "id": "JtpjO-OUdmJC"
      },
      "outputs": [],
      "source": [
        "%matplotlib inline\n",
        "import numpy as np\n",
        "import pandas as pd\n",
        "import matplotlib.pyplot as plt\n",
        "import seaborn as sns"
      ]
    },
    {
      "cell_type": "markdown",
      "source": [
        "## 中文字體\n",
        "- 內建為包含中文字體，因此在圖表中若需加入中文字體，如：標題、圖例等，需先載入中文字體。"
      ],
      "metadata": {
        "id": "qvdiyhNuY-Po"
      }
    },
    {
      "cell_type": "code",
      "source": [
        "!apt-get install -y wget\n",
        "!wget -O LXGWWenKaiMonoTC-Regular.ttf \"https://github.com/lxgw/LxgwWenkaiTC/raw/main/fonts/TTF/LXGWWenKaiMonoTC-Regular.ttf\""
      ],
      "metadata": {
        "colab": {
          "base_uri": "https://localhost:8080/"
        },
        "id": "eq_DEvAifF-O",
        "outputId": "c35ab195-0f4f-4859-8e03-42db759f9674",
        "collapsed": true
      },
      "execution_count": null,
      "outputs": [
        {
          "output_type": "stream",
          "name": "stdout",
          "text": [
            "Reading package lists... Done\n",
            "Building dependency tree... Done\n",
            "Reading state information... Done\n",
            "wget is already the newest version (1.21.2-2ubuntu1.1).\n",
            "0 upgraded, 0 newly installed, 0 to remove and 20 not upgraded.\n",
            "--2025-02-19 16:07:42--  https://github.com/lxgw/LxgwWenkaiTC/raw/main/fonts/TTF/LXGWWenKaiMonoTC-Regular.ttf\n",
            "Resolving github.com (github.com)... 140.82.112.4\n",
            "Connecting to github.com (github.com)|140.82.112.4|:443... connected.\n",
            "HTTP request sent, awaiting response... 302 Found\n",
            "Location: https://raw.githubusercontent.com/lxgw/LxgwWenkaiTC/main/fonts/TTF/LXGWWenKaiMonoTC-Regular.ttf [following]\n",
            "--2025-02-19 16:07:42--  https://raw.githubusercontent.com/lxgw/LxgwWenkaiTC/main/fonts/TTF/LXGWWenKaiMonoTC-Regular.ttf\n",
            "Resolving raw.githubusercontent.com (raw.githubusercontent.com)... 185.199.110.133, 185.199.111.133, 185.199.108.133, ...\n",
            "Connecting to raw.githubusercontent.com (raw.githubusercontent.com)|185.199.110.133|:443... connected.\n",
            "HTTP request sent, awaiting response... 200 OK\n",
            "Length: 13115416 (13M) [application/octet-stream]\n",
            "Saving to: ‘LXGWWenKaiMonoTC-Regular.ttf’\n",
            "\n",
            "LXGWWenKaiMonoTC-Re 100%[===================>]  12.51M  --.-KB/s    in 0.1s    \n",
            "\n",
            "2025-02-19 16:07:43 (117 MB/s) - ‘LXGWWenKaiMonoTC-Regular.ttf’ saved [13115416/13115416]\n",
            "\n"
          ]
        }
      ]
    },
    {
      "cell_type": "code",
      "source": [
        "import matplotlib.font_manager as fm\n",
        "# 設定中文字體\n",
        "font_path = '/content/LXGWWenKaiMonoTC-Regular.ttf'  # 替換為您的字體檔案路徑\n",
        "fm.fontManager.addfont(font_path)\n",
        "font_prop = fm.FontProperties(fname=font_path)\n",
        "\n",
        "plt.rcParams['font.sans-serif'] = [font_prop.get_name()]\n",
        "plt.rcParams['axes.unicode_minus'] = False"
      ],
      "metadata": {
        "id": "-4A3UmLKZEtP"
      },
      "execution_count": null,
      "outputs": []
    },
    {
      "cell_type": "markdown",
      "source": [
        "## 主題二：GAN原理"
      ],
      "metadata": {
        "id": "RQ836UqnZzae"
      }
    },
    {
      "cell_type": "markdown",
      "source": [
        "### 主程式(使用copilot)"
      ],
      "metadata": {
        "id": "ngtThFc7jFnJ"
      }
    },
    {
      "cell_type": "code",
      "source": [
        "import numpy as np\n",
        "from scipy.stats import entropy\n",
        "\n",
        "# 真實分布 (p) 和 預測分布 (q)\n",
        "p = np.array([0.4, 0.6])\n",
        "q = np.array([0.3, 0.7])\n",
        "\n",
        "# 計算 Cross Entropy\n",
        "cross_entropy = -np.sum(p * np.log(q))\n",
        "print(f\"Cross Entropy: {cross_entropy}\")\n",
        "\n",
        "# 計算 KL Divergence\n",
        "kl_divergence = np.sum(p * np.log(p / q))\n",
        "print(f\"KL Divergence: {kl_divergence}\")\n",
        "\n",
        "# 驗證關係: H(p, q) = H(p) + D_{KL}(p || q)\n",
        "entropy_p = -np.sum(p * np.log(p))  # p 的熵\n",
        "print(f\"Entropy of p: {entropy_p}\")\n",
        "print(f\"H(p, q) = {entropy_p + kl_divergence}\")"
      ],
      "metadata": {
        "colab": {
          "base_uri": "https://localhost:8080/"
        },
        "id": "UO6WnO1D0LvH",
        "outputId": "a76d136e-967f-4bd5-b727-47bff7b37138"
      },
      "execution_count": 3,
      "outputs": [
        {
          "output_type": "stream",
          "name": "stdout",
          "text": [
            "Cross Entropy: 0.695594088093614\n",
            "KL Divergence: 0.022582421084357485\n",
            "Entropy of p: 0.6730116670092565\n",
            "H(p, q) = 0.695594088093614\n"
          ]
        }
      ]
    },
    {
      "cell_type": "markdown",
      "source": [
        "### 成果\n",
        "> ![image.png](data:image/png;base64,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)\n",
        "\n",
        "- 從結果來看可以明顯看出Cross Entropy 包含 KL Divergence"
      ],
      "metadata": {
        "id": "NvAvZlamy9jt"
      }
    },
    {
      "cell_type": "code",
      "source": [
        "import numpy as np\n",
        "from scipy.stats import entropy\n",
        "\n",
        "# 真實分布 (p) 和 預測分布 (q)\n",
        "p = np.array([0.4, 0.6, 0.8])\n",
        "q = np.array([0.3, 0.7, 0.9])\n",
        "\n",
        "# 計算 Cross Entropy\n",
        "cross_entropy = -np.sum(p * np.log(q))\n",
        "print(f\"Cross Entropy: {cross_entropy}\")\n",
        "\n",
        "# 計算 KL Divergence\n",
        "kl_divergence = np.sum(p * np.log(p / q))\n",
        "print(f\"KL Divergence: {kl_divergence}\")\n",
        "\n",
        "# 驗證關係: H(p, q) = H(p) + D_{KL}(p || q)\n",
        "entropy_p = -np.sum(p * np.log(p))  # p 的熵\n",
        "print(f\"Entropy of p: {entropy_p}\")\n",
        "print(f\"H(p, q) = {entropy_p + kl_divergence}\")\n"
      ],
      "metadata": {
        "id": "KVgy3f74Xx29",
        "colab": {
          "base_uri": "https://localhost:8080/"
        },
        "outputId": "8c3b24b4-40e1-4ed0-92ae-26e83c1dcb4f"
      },
      "execution_count": 2,
      "outputs": [
        {
          "output_type": "stream",
          "name": "stdout",
          "text": [
            "Cross Entropy: 0.7798825006198751\n",
            "KL Divergence: -0.07164400744074922\n",
            "Entropy of p: 0.8515265080606242\n",
            "H(p, q) = 0.7798825006198751\n"
          ]
        }
      ]
    },
    {
      "cell_type": "markdown",
      "source": [
        "## 評分標準：\n",
        "\n",
        "1. 主題一：\n",
        "\n",
        "  - 6分：1-2組圖片(輸入/輸出 合併起來為1組)。\n",
        "  - 7分：3-5組圖片。\n",
        "  - 8分：完成說明4、5點。\n",
        "\n",
        "  有附上該模型來源(連結)，並清楚介紹這個模型 + 2分\n",
        "\n",
        "---\n",
        "\n",
        "2. 主題二：\n",
        "\n",
        "  - 0分：作答區中無附檔或無Colab連結(不論是否有附圖)。\n",
        "  - 0分：程式連結無法順利開啟，且無截圖。\n",
        "  - 2分：GPT 水準或繳交作業與本周主題無關(若貼成別週作業也列在此。)\n",
        "  - 3分：程式連結無法順利開啟，但有部份截圖。\n",
        "  - 8分：(colab)只有一連串程式，沒有MarkDown來說明。(pdf)只有文字，沒有重點標示\n",
        "  - 10分：(colab)有漂亮的MarkDown來說明。(pdf)是份完美的報告。\n",
        "\n",
        "  >- 註一：若沒有引入老師的固定4行套件，總分 -1。\n",
        "  >- 註二：程式連結無法順利開啟包含 1.權限未開啟 2.繳交非colab連結的檔案 3.程式碼無法完整執行\n",
        "  >- 註三：有請生成式AI幫忙的地方請特別說明，加上理解後的說明，並附上截圖(包括Prompt與生成結果)，不然都當抄襲AI。\n",
        "  >- 註四：若認定抄襲，除該次作業0分外，總成績-10，再犯再扣，直至總成績扣完為止。"
      ],
      "metadata": {
        "id": "roxVVWeRvNmH"
      }
    }
  ]
}