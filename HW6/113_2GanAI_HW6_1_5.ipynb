{
  "cells": [
    {
      "cell_type": "markdown",
      "metadata": {
        "id": "view-in-github",
        "colab_type": "text"
      },
      "source": [
        "<a href=\"https://colab.research.google.com/github/xin-2001/taica_1132_GenAI/blob/main/HW6/113_2GanAI_HW6_1_5.ipynb\" target=\"_parent\"><img src=\"https://colab.research.google.com/assets/colab-badge.svg\" alt=\"Open In Colab\"/></a>"
      ]
    },
    {
      "cell_type": "markdown",
      "source": [
        "# 主題一：使用HW5製作持續聊天的對話機器人\n",
        "- 主題一\n",
        "  延續上週作業，參考老師的範例，更改成可以持續對話的版本。\n",
        "Gradio展示。\n",
        "- 主題二\n",
        "  \n",
        "  製作兩個不同模型互相對話的機器人。\n",
        "  \n",
        "  Gradio展示。\n",
        "\n",
        "- 繳交內容\n",
        "  \n",
        "  colab連結(請記得將共用權限打開)，請在重點處以 MarkDown 註明。\n",
        "  \n",
        "  此份作業的重點截圖\n",
        "  \n",
        "  人設/背景設定\n",
        "  \n",
        "  使用的模型\n",
        "  \n",
        "  Gradio的對話結果\n",
        "  \n",
        "  其他\n",
        "  \n",
        "  也可以自行增加其他內容"
      ],
      "metadata": {
        "id": "r0i3zdVJx0ov"
      }
    },
    {
      "cell_type": "code",
      "execution_count": 1,
      "metadata": {
        "id": "mGOx_1226Mjm"
      },
      "outputs": [],
      "source": [
        "import os\n",
        "from google.colab import userdata"
      ]
    },
    {
      "cell_type": "markdown",
      "metadata": {
        "id": "ghFqwSXWANB-"
      },
      "source": [
        "Gemini模型可參考 https://ai.google.dev/gemini-api/docs/models?hl=zh-tw\n",
        "- Gemini 2.5 Pro Experimental\n",
        "- Gemini 2.0 Flash\n",
        "- Gemini 2.0 Flash-Lite\n",
        "- Gemini 1.5 Flash\n",
        "- Gemini 1.5 Flash-8B\n",
        "- Gemini 1.5 Pro"
      ]
    },
    {
      "cell_type": "code",
      "execution_count": 2,
      "metadata": {
        "id": "L507G1B65rPo"
      },
      "outputs": [],
      "source": [
        "#【使用 Gemini】\n",
        "api_key = userdata.get('GOOGLE_API_KEY')\n",
        "model=\"gemini-1.5-flash\" #\n",
        "base_url=\"https://generativelanguage.googleapis.com/v1beta/openai/\""
      ]
    },
    {
      "cell_type": "markdown",
      "metadata": {
        "id": "5pdI-qx2Avab"
      },
      "source": [
        "- os.environ: 這是一個字典，包含了目前環境的所有環境變數。\n",
        "- ['OPENAI_API_KEY']: 這是在環境變數字典中，用來存取 OPENAI_API_KEY 這個環境變數的索引鍵。\n",
        "- 透過 os.environ.get('OPENAI_API_KEY') 的方式來取得 API 金鑰，而不用直接在程式碼中寫入 API 金鑰。\n",
        "- 優點\n",
        "  - 提升安全性：避免將 API 金鑰直接寫入程式碼中，降低金鑰外洩的風險。\n",
        "  - 提升程式碼可讀性：讓程式碼更簡潔，更容易理解。\n",
        "  - 提升程式碼可維護性：方便修改 API 金鑰，而不用修改程式碼。"
      ]
    },
    {
      "cell_type": "code",
      "execution_count": 3,
      "metadata": {
        "id": "-cS890Mm7xu6"
      },
      "outputs": [],
      "source": [
        "os.environ['OPENAI_API_KEY']=api_key"
      ]
    },
    {
      "cell_type": "markdown",
      "metadata": {
        "id": "eeekaDo47R4F"
      },
      "source": [
        "## 2. 程式的基本設定"
      ]
    },
    {
      "cell_type": "markdown",
      "metadata": {
        "id": "6jirqppoxqe_"
      },
      "source": [
        "1. 為機器人命名。"
      ]
    },
    {
      "cell_type": "code",
      "execution_count": 4,
      "metadata": {
        "id": "Y-SRjxmhxvbb"
      },
      "outputs": [],
      "source": [
        "title = \"柴語生成器\""
      ]
    },
    {
      "cell_type": "markdown",
      "metadata": {
        "id": "qekcDCsvvz2J"
      },
      "source": [
        "2. 為對話機器人做角色設定。\n",
        "\n",
        " character 和 system 的差別\n",
        "  1. system:\n",
        "   - 用途：設定聊天機器人的整體行為和角色，例如它的個性、知識背景、說話風格等。\n",
        "   - 側重點：定義聊天機器人的基本設定和限制，確保它在互動過程中保持一致性。\n",
        "  2. character:\n",
        "   - 用途：設定聊天機器人的特定角色或人格，例如它的名字、年齡、職業、興趣等。\n",
        "   - 側重點：賦予聊天機器人更鮮明的個性，使其更具吸引力和趣味性。\n",
        "  3. 總結\n",
        "   - system 設定聊天機器人的整體行為和角色，而 character 設定聊天機器人的特定角色或人格。\n",
        "   - system 更側重於定義基本設定和限制，而 character 更側重於賦予個性。\n",
        "   - 可以根據你的需求和創意來組合使用 system 和 character，創造出獨特的聊天機器人。"
      ]
    },
    {
      "cell_type": "code",
      "execution_count": 5,
      "metadata": {
        "id": "MqWpfJYhdFu3"
      },
      "outputs": [],
      "source": [
        "system = '''你是一個友善的對話機器人，負責回答使用者的提問，回答需根據受試者的提問層次，從簡單回答開始，逐步深化內容，避免一次性提供完整答案。回答方式需以提示或建議為主，讓受試者透過提問獲取關鍵資訊。回答時請使用台灣用語及繁體中文。'''"
      ]
    },
    {
      "cell_type": "markdown",
      "metadata": {
        "id": "qJv7nYANwA6-"
      },
      "source": [
        "3. 說明文字:讓使用者知道這是做什麼的對話機器人。"
      ]
    },
    {
      "cell_type": "code",
      "execution_count": 6,
      "metadata": {
        "id": "caZ8CKRwv-e-"
      },
      "outputs": [],
      "source": [
        "description = \"我是友善的聊天機器人，可以回答妳各種問題。:)\""
      ]
    },
    {
      "cell_type": "markdown",
      "metadata": {
        "id": "Ch-GA2w63pjm"
      },
      "source": [
        "### 2. 使用 OpenAI 的 API\n",
        "\n",
        "我們先來安裝 `openai` 套件, 還有快速打造 Web App 的 `gradio`。"
      ]
    },
    {
      "cell_type": "code",
      "execution_count": 7,
      "metadata": {
        "colab": {
          "base_uri": "https://localhost:8080/"
        },
        "collapsed": true,
        "id": "hAR65--V8IMH",
        "outputId": "334ff0eb-02a3-4749-b7c7-79ec36e7f455"
      },
      "outputs": [
        {
          "output_type": "stream",
          "name": "stdout",
          "text": [
            "Requirement already satisfied: openai in /usr/local/lib/python3.11/dist-packages (1.70.0)\n",
            "Requirement already satisfied: anyio<5,>=3.5.0 in /usr/local/lib/python3.11/dist-packages (from openai) (4.9.0)\n",
            "Requirement already satisfied: distro<2,>=1.7.0 in /usr/local/lib/python3.11/dist-packages (from openai) (1.9.0)\n",
            "Requirement already satisfied: httpx<1,>=0.23.0 in /usr/local/lib/python3.11/dist-packages (from openai) (0.28.1)\n",
            "Requirement already satisfied: jiter<1,>=0.4.0 in /usr/local/lib/python3.11/dist-packages (from openai) (0.9.0)\n",
            "Requirement already satisfied: pydantic<3,>=1.9.0 in /usr/local/lib/python3.11/dist-packages (from openai) (2.11.2)\n",
            "Requirement already satisfied: sniffio in /usr/local/lib/python3.11/dist-packages (from openai) (1.3.1)\n",
            "Requirement already satisfied: tqdm>4 in /usr/local/lib/python3.11/dist-packages (from openai) (4.67.1)\n",
            "Requirement already satisfied: typing-extensions<5,>=4.11 in /usr/local/lib/python3.11/dist-packages (from openai) (4.13.1)\n",
            "Requirement already satisfied: idna>=2.8 in /usr/local/lib/python3.11/dist-packages (from anyio<5,>=3.5.0->openai) (3.10)\n",
            "Requirement already satisfied: certifi in /usr/local/lib/python3.11/dist-packages (from httpx<1,>=0.23.0->openai) (2025.1.31)\n",
            "Requirement already satisfied: httpcore==1.* in /usr/local/lib/python3.11/dist-packages (from httpx<1,>=0.23.0->openai) (1.0.7)\n",
            "Requirement already satisfied: h11<0.15,>=0.13 in /usr/local/lib/python3.11/dist-packages (from httpcore==1.*->httpx<1,>=0.23.0->openai) (0.14.0)\n",
            "Requirement already satisfied: annotated-types>=0.6.0 in /usr/local/lib/python3.11/dist-packages (from pydantic<3,>=1.9.0->openai) (0.7.0)\n",
            "Requirement already satisfied: pydantic-core==2.33.1 in /usr/local/lib/python3.11/dist-packages (from pydantic<3,>=1.9.0->openai) (2.33.1)\n",
            "Requirement already satisfied: typing-inspection>=0.4.0 in /usr/local/lib/python3.11/dist-packages (from pydantic<3,>=1.9.0->openai) (0.4.0)\n",
            "Collecting gradio\n",
            "  Downloading gradio-5.25.0-py3-none-any.whl.metadata (16 kB)\n",
            "Collecting aiofiles<25.0,>=22.0 (from gradio)\n",
            "  Downloading aiofiles-24.1.0-py3-none-any.whl.metadata (10 kB)\n",
            "Requirement already satisfied: anyio<5.0,>=3.0 in /usr/local/lib/python3.11/dist-packages (from gradio) (4.9.0)\n",
            "Collecting fastapi<1.0,>=0.115.2 (from gradio)\n",
            "  Downloading fastapi-0.115.12-py3-none-any.whl.metadata (27 kB)\n",
            "Collecting ffmpy (from gradio)\n",
            "  Downloading ffmpy-0.5.0-py3-none-any.whl.metadata (3.0 kB)\n",
            "Collecting gradio-client==1.8.0 (from gradio)\n",
            "  Downloading gradio_client-1.8.0-py3-none-any.whl.metadata (7.1 kB)\n",
            "Collecting groovy~=0.1 (from gradio)\n",
            "  Downloading groovy-0.1.2-py3-none-any.whl.metadata (6.1 kB)\n",
            "Requirement already satisfied: httpx>=0.24.1 in /usr/local/lib/python3.11/dist-packages (from gradio) (0.28.1)\n",
            "Requirement already satisfied: huggingface-hub>=0.28.1 in /usr/local/lib/python3.11/dist-packages (from gradio) (0.30.1)\n",
            "Requirement already satisfied: jinja2<4.0 in /usr/local/lib/python3.11/dist-packages (from gradio) (3.1.6)\n",
            "Requirement already satisfied: markupsafe<4.0,>=2.0 in /usr/local/lib/python3.11/dist-packages (from gradio) (3.0.2)\n",
            "Requirement already satisfied: numpy<3.0,>=1.0 in /usr/local/lib/python3.11/dist-packages (from gradio) (2.0.2)\n",
            "Requirement already satisfied: orjson~=3.0 in /usr/local/lib/python3.11/dist-packages (from gradio) (3.10.16)\n",
            "Requirement already satisfied: packaging in /usr/local/lib/python3.11/dist-packages (from gradio) (24.2)\n",
            "Requirement already satisfied: pandas<3.0,>=1.0 in /usr/local/lib/python3.11/dist-packages (from gradio) (2.2.2)\n",
            "Requirement already satisfied: pillow<12.0,>=8.0 in /usr/local/lib/python3.11/dist-packages (from gradio) (11.1.0)\n",
            "Requirement already satisfied: pydantic<2.12,>=2.0 in /usr/local/lib/python3.11/dist-packages (from gradio) (2.11.2)\n",
            "Collecting pydub (from gradio)\n",
            "  Downloading pydub-0.25.1-py2.py3-none-any.whl.metadata (1.4 kB)\n",
            "Collecting python-multipart>=0.0.18 (from gradio)\n",
            "  Downloading python_multipart-0.0.20-py3-none-any.whl.metadata (1.8 kB)\n",
            "Requirement already satisfied: pyyaml<7.0,>=5.0 in /usr/local/lib/python3.11/dist-packages (from gradio) (6.0.2)\n",
            "Collecting ruff>=0.9.3 (from gradio)\n",
            "  Downloading ruff-0.11.5-py3-none-manylinux_2_17_x86_64.manylinux2014_x86_64.whl.metadata (25 kB)\n",
            "Collecting safehttpx<0.2.0,>=0.1.6 (from gradio)\n",
            "  Downloading safehttpx-0.1.6-py3-none-any.whl.metadata (4.2 kB)\n",
            "Collecting semantic-version~=2.0 (from gradio)\n",
            "  Downloading semantic_version-2.10.0-py2.py3-none-any.whl.metadata (9.7 kB)\n",
            "Collecting starlette<1.0,>=0.40.0 (from gradio)\n",
            "  Downloading starlette-0.46.1-py3-none-any.whl.metadata (6.2 kB)\n",
            "Collecting tomlkit<0.14.0,>=0.12.0 (from gradio)\n",
            "  Downloading tomlkit-0.13.2-py3-none-any.whl.metadata (2.7 kB)\n",
            "Requirement already satisfied: typer<1.0,>=0.12 in /usr/local/lib/python3.11/dist-packages (from gradio) (0.15.2)\n",
            "Requirement already satisfied: typing-extensions~=4.0 in /usr/local/lib/python3.11/dist-packages (from gradio) (4.13.1)\n",
            "Collecting uvicorn>=0.14.0 (from gradio)\n",
            "  Downloading uvicorn-0.34.0-py3-none-any.whl.metadata (6.5 kB)\n",
            "Requirement already satisfied: fsspec in /usr/local/lib/python3.11/dist-packages (from gradio-client==1.8.0->gradio) (2025.3.2)\n",
            "Requirement already satisfied: websockets<16.0,>=10.0 in /usr/local/lib/python3.11/dist-packages (from gradio-client==1.8.0->gradio) (15.0.1)\n",
            "Requirement already satisfied: idna>=2.8 in /usr/local/lib/python3.11/dist-packages (from anyio<5.0,>=3.0->gradio) (3.10)\n",
            "Requirement already satisfied: sniffio>=1.1 in /usr/local/lib/python3.11/dist-packages (from anyio<5.0,>=3.0->gradio) (1.3.1)\n",
            "Requirement already satisfied: certifi in /usr/local/lib/python3.11/dist-packages (from httpx>=0.24.1->gradio) (2025.1.31)\n",
            "Requirement already satisfied: httpcore==1.* in /usr/local/lib/python3.11/dist-packages (from httpx>=0.24.1->gradio) (1.0.7)\n",
            "Requirement already satisfied: h11<0.15,>=0.13 in /usr/local/lib/python3.11/dist-packages (from httpcore==1.*->httpx>=0.24.1->gradio) (0.14.0)\n",
            "Requirement already satisfied: filelock in /usr/local/lib/python3.11/dist-packages (from huggingface-hub>=0.28.1->gradio) (3.18.0)\n",
            "Requirement already satisfied: requests in /usr/local/lib/python3.11/dist-packages (from huggingface-hub>=0.28.1->gradio) (2.32.3)\n",
            "Requirement already satisfied: tqdm>=4.42.1 in /usr/local/lib/python3.11/dist-packages (from huggingface-hub>=0.28.1->gradio) (4.67.1)\n",
            "Requirement already satisfied: python-dateutil>=2.8.2 in /usr/local/lib/python3.11/dist-packages (from pandas<3.0,>=1.0->gradio) (2.8.2)\n",
            "Requirement already satisfied: pytz>=2020.1 in /usr/local/lib/python3.11/dist-packages (from pandas<3.0,>=1.0->gradio) (2025.2)\n",
            "Requirement already satisfied: tzdata>=2022.7 in /usr/local/lib/python3.11/dist-packages (from pandas<3.0,>=1.0->gradio) (2025.2)\n",
            "Requirement already satisfied: annotated-types>=0.6.0 in /usr/local/lib/python3.11/dist-packages (from pydantic<2.12,>=2.0->gradio) (0.7.0)\n",
            "Requirement already satisfied: pydantic-core==2.33.1 in /usr/local/lib/python3.11/dist-packages (from pydantic<2.12,>=2.0->gradio) (2.33.1)\n",
            "Requirement already satisfied: typing-inspection>=0.4.0 in /usr/local/lib/python3.11/dist-packages (from pydantic<2.12,>=2.0->gradio) (0.4.0)\n",
            "Requirement already satisfied: click>=8.0.0 in /usr/local/lib/python3.11/dist-packages (from typer<1.0,>=0.12->gradio) (8.1.8)\n",
            "Requirement already satisfied: shellingham>=1.3.0 in /usr/local/lib/python3.11/dist-packages (from typer<1.0,>=0.12->gradio) (1.5.4)\n",
            "Requirement already satisfied: rich>=10.11.0 in /usr/local/lib/python3.11/dist-packages (from typer<1.0,>=0.12->gradio) (13.9.4)\n",
            "Requirement already satisfied: six>=1.5 in /usr/local/lib/python3.11/dist-packages (from python-dateutil>=2.8.2->pandas<3.0,>=1.0->gradio) (1.17.0)\n",
            "Requirement already satisfied: markdown-it-py>=2.2.0 in /usr/local/lib/python3.11/dist-packages (from rich>=10.11.0->typer<1.0,>=0.12->gradio) (3.0.0)\n",
            "Requirement already satisfied: pygments<3.0.0,>=2.13.0 in /usr/local/lib/python3.11/dist-packages (from rich>=10.11.0->typer<1.0,>=0.12->gradio) (2.18.0)\n",
            "Requirement already satisfied: charset-normalizer<4,>=2 in /usr/local/lib/python3.11/dist-packages (from requests->huggingface-hub>=0.28.1->gradio) (3.4.1)\n",
            "Requirement already satisfied: urllib3<3,>=1.21.1 in /usr/local/lib/python3.11/dist-packages (from requests->huggingface-hub>=0.28.1->gradio) (2.3.0)\n",
            "Requirement already satisfied: mdurl~=0.1 in /usr/local/lib/python3.11/dist-packages (from markdown-it-py>=2.2.0->rich>=10.11.0->typer<1.0,>=0.12->gradio) (0.1.2)\n",
            "Downloading gradio-5.25.0-py3-none-any.whl (46.9 MB)\n",
            "\u001b[2K   \u001b[90m━━━━━━━━━━━━━━━━━━━━━━━━━━━━━━━━━━━━━━━━\u001b[0m \u001b[32m46.9/46.9 MB\u001b[0m \u001b[31m15.2 MB/s\u001b[0m eta \u001b[36m0:00:00\u001b[0m\n",
            "\u001b[?25hDownloading gradio_client-1.8.0-py3-none-any.whl (322 kB)\n",
            "\u001b[2K   \u001b[90m━━━━━━━━━━━━━━━━━━━━━━━━━━━━━━━━━━━━━━━━\u001b[0m \u001b[32m322.2/322.2 kB\u001b[0m \u001b[31m15.5 MB/s\u001b[0m eta \u001b[36m0:00:00\u001b[0m\n",
            "\u001b[?25hDownloading aiofiles-24.1.0-py3-none-any.whl (15 kB)\n",
            "Downloading fastapi-0.115.12-py3-none-any.whl (95 kB)\n",
            "\u001b[2K   \u001b[90m━━━━━━━━━━━━━━━━━━━━━━━━━━━━━━━━━━━━━━━━\u001b[0m \u001b[32m95.2/95.2 kB\u001b[0m \u001b[31m6.1 MB/s\u001b[0m eta \u001b[36m0:00:00\u001b[0m\n",
            "\u001b[?25hDownloading groovy-0.1.2-py3-none-any.whl (14 kB)\n",
            "Downloading python_multipart-0.0.20-py3-none-any.whl (24 kB)\n",
            "Downloading ruff-0.11.5-py3-none-manylinux_2_17_x86_64.manylinux2014_x86_64.whl (11.4 MB)\n",
            "\u001b[2K   \u001b[90m━━━━━━━━━━━━━━━━━━━━━━━━━━━━━━━━━━━━━━━━\u001b[0m \u001b[32m11.4/11.4 MB\u001b[0m \u001b[31m52.1 MB/s\u001b[0m eta \u001b[36m0:00:00\u001b[0m\n",
            "\u001b[?25hDownloading safehttpx-0.1.6-py3-none-any.whl (8.7 kB)\n",
            "Downloading semantic_version-2.10.0-py2.py3-none-any.whl (15 kB)\n",
            "Downloading starlette-0.46.1-py3-none-any.whl (71 kB)\n",
            "\u001b[2K   \u001b[90m━━━━━━━━━━━━━━━━━━━━━━━━━━━━━━━━━━━━━━━━\u001b[0m \u001b[32m72.0/72.0 kB\u001b[0m \u001b[31m4.5 MB/s\u001b[0m eta \u001b[36m0:00:00\u001b[0m\n",
            "\u001b[?25hDownloading tomlkit-0.13.2-py3-none-any.whl (37 kB)\n",
            "Downloading uvicorn-0.34.0-py3-none-any.whl (62 kB)\n",
            "\u001b[2K   \u001b[90m━━━━━━━━━━━━━━━━━━━━━━━━━━━━━━━━━━━━━━━━\u001b[0m \u001b[32m62.3/62.3 kB\u001b[0m \u001b[31m4.4 MB/s\u001b[0m eta \u001b[36m0:00:00\u001b[0m\n",
            "\u001b[?25hDownloading ffmpy-0.5.0-py3-none-any.whl (6.0 kB)\n",
            "Downloading pydub-0.25.1-py2.py3-none-any.whl (32 kB)\n",
            "Installing collected packages: pydub, uvicorn, tomlkit, semantic-version, ruff, python-multipart, groovy, ffmpy, aiofiles, starlette, safehttpx, gradio-client, fastapi, gradio\n",
            "Successfully installed aiofiles-24.1.0 fastapi-0.115.12 ffmpy-0.5.0 gradio-5.25.0 gradio-client-1.8.0 groovy-0.1.2 pydub-0.25.1 python-multipart-0.0.20 ruff-0.11.5 safehttpx-0.1.6 semantic-version-2.10.0 starlette-0.46.1 tomlkit-0.13.2 uvicorn-0.34.0\n"
          ]
        }
      ],
      "source": [
        "!pip install openai\n",
        "!pip install gradio"
      ]
    },
    {
      "cell_type": "markdown",
      "metadata": {
        "id": "RdQWlryD3sWO"
      },
      "source": [
        "### 3. 使用 ChatGPT API\n",
        "\n",
        "1. 首先使用 `openai` 套件。"
      ]
    },
    {
      "cell_type": "code",
      "execution_count": 8,
      "metadata": {
        "id": "AE_hxsf7_xnw"
      },
      "outputs": [],
      "source": [
        "from openai import OpenAI"
      ]
    },
    {
      "cell_type": "markdown",
      "metadata": {
        "id": "gnl3KyX5oOsv"
      },
      "source": [
        "2. 貼上金鑰於colab的```Secret```\n",
        " - client: 這是一個變數，用來儲存 OpenAI 客戶端物件。\n",
        " - OpenAI(): 這是 openai 函式庫中的一個函式，用於初始化 OpenAI 客戶端。\n",
        " - base_url: 這是一個參數，用於指定 API 的基本網址。設定 base_url 可以讓你使用不同的 OpenAI API 服務，例如 OpenAI 官方服務或其他相容的服務。"
      ]
    },
    {
      "cell_type": "code",
      "execution_count": 9,
      "metadata": {
        "id": "j1JpbbMV6XUj"
      },
      "outputs": [],
      "source": [
        "client = OpenAI(\n",
        "    base_url = base_url # 如用 OpenAI 不需要這一行\n",
        ")"
      ]
    },
    {
      "cell_type": "markdown",
      "metadata": {
        "id": "2QvMR3uRph__"
      },
      "source": [
        "ChatGPT API 的重點是要把之前對話的內容送給 ChatGPT, 然後他就會有個適當的回應!\n",
        "\n",
        "角色 (`role`) 一共有三種, 分別是:\n",
        "\n",
        "* `system`: 這是對話機器人的「人設」\n",
        "* `user`: 使用者\n",
        "* `assistant`: ChatGPT 的回應"
      ]
    },
    {
      "cell_type": "markdown",
      "metadata": {
        "id": "W8Da7HZxwW78"
      },
      "source": [
        "基本上過去的對話紀錄長這個樣子。\n",
        "\n",
        "    messages = [{\"role\":\"system\", \"content\":\"ChatGPT的「人設」\"},\n",
        "            {\"role\": \"user\", \"content\": \"使用者說\"},\n",
        "            {\"role\": \"assistant\", \"content\": \"ChatGPT回應\"},\n",
        "            ：\n",
        "            ：\n",
        "            {\"role\": \"user\", \"content\": prompt (最後說的)}]"
      ]
    },
    {
      "cell_type": "markdown",
      "metadata": {
        "id": "WuzrvcdQx2VO"
      },
      "source": [
        "## 4. 用 Gradio 打造你的對話機器人 Web App!"
      ]
    },
    {
      "cell_type": "code",
      "execution_count": 10,
      "metadata": {
        "id": "xv7nvjfDj3f2"
      },
      "outputs": [],
      "source": [
        "import gradio as gr"
      ]
    },
    {
      "cell_type": "code",
      "execution_count": 11,
      "metadata": {
        "id": "-N3HEyOlB5ZD"
      },
      "outputs": [],
      "source": [
        "messages = [{\"role\":\"system\",\n",
        "             \"content\":system}]"
      ]
    },
    {
      "cell_type": "markdown",
      "source": [
        "### 匯入多時區函式庫pytz"
      ],
      "metadata": {
        "id": "H4p_pDb72RVs"
      }
    },
    {
      "cell_type": "code",
      "execution_count": 12,
      "metadata": {
        "colab": {
          "base_uri": "https://localhost:8080/",
          "height": 326
        },
        "id": "g3oDFj1FHfnM",
        "outputId": "9450baa5-4947-4ea2-a272-e789abc759fb"
      },
      "outputs": [
        {
          "output_type": "stream",
          "name": "stdout",
          "text": [
            "Collecting pytz==2023.3\n",
            "  Downloading pytz-2023.3-py2.py3-none-any.whl.metadata (22 kB)\n",
            "Downloading pytz-2023.3-py2.py3-none-any.whl (502 kB)\n",
            "\u001b[2K   \u001b[90m━━━━━━━━━━━━━━━━━━━━━━━━━━━━━━━━━━━━━━━━\u001b[0m \u001b[32m502.3/502.3 kB\u001b[0m \u001b[31m10.9 MB/s\u001b[0m eta \u001b[36m0:00:00\u001b[0m\n",
            "\u001b[?25hInstalling collected packages: pytz\n",
            "  Attempting uninstall: pytz\n",
            "    Found existing installation: pytz 2025.2\n",
            "    Uninstalling pytz-2025.2:\n",
            "      Successfully uninstalled pytz-2025.2\n",
            "Successfully installed pytz-2023.3\n"
          ]
        },
        {
          "output_type": "display_data",
          "data": {
            "application/vnd.colab-display-data+json": {
              "pip_warning": {
                "packages": [
                  "pytz"
                ]
              },
              "id": "795cd673339142f1ad3b0ed8807a76a9"
            }
          },
          "metadata": {}
        }
      ],
      "source": [
        "!pip install pytz==2023.3\n",
        "import pytz #多時區資訊"
      ]
    },
    {
      "cell_type": "code",
      "execution_count": 13,
      "metadata": {
        "id": "9cIJDd1Ux3UH"
      },
      "outputs": [],
      "source": [
        "description2 = \"我是友善的聊天機器人，可以回答妳各種問題。\"\n",
        "system2 = \"你是一個友善的對話機器人，負責回答使用者的提問，回答需根據受試者的提問層次，從簡單回答開始，逐步深化內容，避免一次性提供完整答案。回答方式需以提示或建議為主，讓受試者透過提問獲取關鍵資訊。回答時請使用台灣用語及繁體中文。\""
      ]
    },
    {
      "cell_type": "code",
      "execution_count": 14,
      "metadata": {
        "id": "WeBTZKMYxy9Y"
      },
      "outputs": [],
      "source": [
        "initial_messages = [{\"role\":\"system\",\n",
        "             \"content\":system2},\n",
        "            {\"role\":\"assistant\",\n",
        "            'content':description2}]"
      ]
    },
    {
      "cell_type": "code",
      "execution_count": 15,
      "metadata": {
        "id": "eZF7BPeMxOws"
      },
      "outputs": [],
      "source": [
        "state = gr.State(messages)"
      ]
    },
    {
      "cell_type": "code",
      "source": [
        "# 建立一個空的 list 來存放對話紀錄\n",
        "chat_history = []"
      ],
      "metadata": {
        "id": "WdXtyxsSi0iF"
      },
      "execution_count": 16,
      "outputs": []
    },
    {
      "cell_type": "code",
      "execution_count": 17,
      "metadata": {
        "id": "8vdr40Mtwhcq"
      },
      "outputs": [],
      "source": [
        "import datetime\n",
        "def pipi(prompt, messages):\n",
        "  user_id=userID\n",
        "  taiwan_tz = pytz.timezone('Asia/Taipei')\n",
        "  timestamp = datetime.datetime.now(taiwan_tz).strftime(\"%Y-%m-%d %H:%M:%S\")  # 獲取時間戳記\n",
        "  messages.append({\"role\": \"user\", \"content\": prompt, \"timestamp\": timestamp, \"userID\": user_id})\n",
        "  chat_completion = client.chat.completions.create(\n",
        "      messages=messages,\n",
        "      model=model,\n",
        "      )\n",
        "  reply = chat_completion.choices[0].message.content\n",
        "  messages.append({\"role\": \"assistant\", \"content\": reply, \"timestamp\": timestamp, \"userID\": user_id})\n",
        "  chat_history.append([user_id, timestamp, \"user\", prompt])  # 使用者訊息\n",
        "  chat_history.append([user_id, timestamp, \"assistant\", reply])  # 機器人訊息\n",
        "\n",
        "\n",
        "  #history = history + [[prompt, reply]]\n",
        "  return messages, messages"
      ]
    },
    {
      "cell_type": "code",
      "execution_count": 18,
      "metadata": {
        "id": "F9rE15HwwtWH"
      },
      "outputs": [],
      "source": [
        "chatbot = gr.Chatbot(type=\"messages\")"
      ]
    },
    {
      "cell_type": "markdown",
      "source": [
        "### 設置匯出按鈕及方式\n",
        "- 檔名使用```16碼隨機ID_匯出的時間```"
      ],
      "metadata": {
        "id": "zyyUYO1n2CBC"
      }
    },
    {
      "cell_type": "code",
      "execution_count": 19,
      "metadata": {
        "id": "WOz_ZQ4s3tch"
      },
      "outputs": [],
      "source": [
        "# 設置匯出按鈕及方式\n",
        "from gradio import File\n",
        "import csv\n",
        "def export_chat_history(messages):\n",
        "  user_id=userID\n",
        "  # df = pd.DataFrame(messages)\n",
        "  # df = df[['timestamp', 'role', 'content']]  # 選擇要匯出的欄位\n",
        "  # csv_data = df.to_csv(index=False)  # 轉換為 CSV 格式\n",
        "  taiwan_tz = pytz.timezone('Asia/Taipei')\n",
        "  time_file = datetime.datetime.now(taiwan_tz).strftime(\"%Y-%m-%d %H:%M:%S\")  # 獲取時間戳記\n",
        "  filename = f\"{user_id}_{time_file}.csv\"\n",
        "\n",
        "  with open(filename, 'w', newline='', encoding='utf-8-sig') as csvfile:\n",
        "    writer = csv.writer(csvfile)\n",
        "    writer.writerow(['userID', 'timestamp', 'role', 'content'])  # 寫入標題列\n",
        "    writer.writerows(chat_history)  # 寫入對話紀錄\n",
        "  return filename\n",
        "  # file_object = gr.File(label=\"CSV\")\n",
        "  # return file_object.download(value=csv_data, filename=f\"chat_history_{time_file}.csv\")\n",
        "  #return gr.File(value=csv_data, filename=f\"chat_history_{time_file}.csv\", lebel=\"CSV\")  # 返回 CSV 檔案"
      ]
    },
    {
      "cell_type": "markdown",
      "source": [
        "### 產生隨機ID"
      ],
      "metadata": {
        "id": "n7OrFhSr19-e"
      }
    },
    {
      "cell_type": "code",
      "source": [
        "import random\n",
        "\n",
        "def generate_random_hex(length=16):\n",
        "  \"\"\"產生指定長度的隨機 16 進位字串。\n",
        "  Args:\n",
        "    length: 16 進位字串的長度。預設為 16。\n",
        "  Returns:\n",
        "    隨機產生的 16 進位字串。\n",
        "  \"\"\"\n",
        "  hex_characters = '0123456789abcdef'\n",
        "  random_hex = ''.join(random.choice(hex_characters) for _ in range(length))\n",
        "  return random_hex\n",
        "\n",
        "# 產生 16 位數的 16 進位隨機亂碼\n",
        "random_hex_code = generate_random_hex()\n",
        "print(random_hex_code)  # 輸出範例: 'a1b2c3d4e5f67890'"
      ],
      "metadata": {
        "colab": {
          "base_uri": "https://localhost:8080/"
        },
        "id": "js0z6U2KS3NE",
        "outputId": "8fb845d9-c817-4e9b-b367-d62e7e2161f3"
      },
      "execution_count": 20,
      "outputs": [
        {
          "output_type": "stream",
          "name": "stdout",
          "text": [
            "68a7fe11ee930e23\n"
          ]
        }
      ]
    },
    {
      "cell_type": "code",
      "execution_count": null,
      "metadata": {
        "colab": {
          "base_uri": "https://localhost:8080/",
          "height": 740
        },
        "id": "0r03P5oJwwqA",
        "outputId": "bdfbec05-1327-485e-c983-2a76fa2f0422"
      },
      "outputs": [
        {
          "output_type": "stream",
          "name": "stderr",
          "text": [
            "/usr/local/lib/python3.11/dist-packages/gradio/utils.py:1024: UserWarning: Expected 1 arguments for function <function <lambda> at 0x7ad1ae7431a0>, received 0.\n",
            "  warnings.warn(\n",
            "/usr/local/lib/python3.11/dist-packages/gradio/utils.py:1028: UserWarning: Expected at least 1 arguments for function <function <lambda> at 0x7ad1ae7431a0>, received 0.\n",
            "  warnings.warn(\n"
          ]
        },
        {
          "output_type": "stream",
          "name": "stdout",
          "text": [
            "Colab notebook detected. This cell will run indefinitely so that you can see errors and logs. To turn off, set debug=False in launch().\n",
            "* Running on public URL: https://59bbfebe79fc195908.gradio.live\n",
            "\n",
            "This share link expires in 72 hours. For free permanent hosting and GPU upgrades, run `gradio deploy` from the terminal in the working directory to deploy to Hugging Face Spaces (https://huggingface.co/spaces)\n"
          ]
        },
        {
          "output_type": "display_data",
          "data": {
            "text/plain": [
              "<IPython.core.display.HTML object>"
            ],
            "text/html": [
              "<div><iframe src=\"https://59bbfebe79fc195908.gradio.live\" width=\"100%\" height=\"500\" allow=\"autoplay; camera; microphone; clipboard-read; clipboard-write;\" frameborder=\"0\" allowfullscreen></iframe></div>"
            ]
          },
          "metadata": {}
        },
        {
          "output_type": "stream",
          "name": "stderr",
          "text": [
            "/usr/local/lib/python3.11/dist-packages/gradio/helpers.py:977: UserWarning: Unexpected argument. Filling with None.\n",
            "  warnings.warn(\"Unexpected argument. Filling with None.\")\n"
          ]
        }
      ],
      "source": [
        "chat_history = [] #將對話紀錄清空\n",
        "with gr.Blocks(title=title) as demo:\n",
        "  gr.Markdown(f\"## 🤖 {title}\\n{description}\")\n",
        "\n",
        "  userID = generate_random_hex() # 產生使用者編號\n",
        "  chatbot = gr.Chatbot(type=\"messages\", value=initial_messages)\n",
        "\n",
        "  msg = gr.Textbox(label=\"輸入訊息\")\n",
        "  #state_id = gr.State(test())\n",
        "  #state = gr.State({\"initial_messages\": initial_messages.copy(), \"user_id\": None})\n",
        "  state = gr.State(initial_messages.copy())  # 務必用 copy()\n",
        "  # 清除送出後輸入框內容.then(fn=lambda x: \"\", outputs=[msg])\n",
        "  msg.submit(fn=pipi, inputs=[msg, state], outputs=[chatbot, state]).then(fn=lambda x: \"\", outputs=[msg])\n",
        "  # 設置匯出按鈕\n",
        "  export_button = gr.Button(\"匯出聊天紀錄\")\n",
        "  file_output = gr.File(label=\"CSV\")\n",
        "  export_button.click(fn=export_chat_history, inputs=[state], outputs=[file_output])\n",
        "\n",
        "demo.launch(share=True, debug=True)"
      ]
    },
    {
      "cell_type": "markdown",
      "source": [
        "## 成果展現\n",
        "- 對話紀錄:[6a177f2dd0b1266a_2025-04-13%20190250.csv](https://github.com/xin-2001/taica_1132_GenAI/blob/a148781b9c6463f0314d4408d5dfad3691f2ce41/HW6/6a177f2dd0b1266a_2025-04-13%20190250.csv)\n",
        "- 成果畫面\n",
        "  > ![image.png](https://github.com/xin-2001/taica_1132_GenAI/blob/main/HW6/hw6_1_5_1.png?raw=true)"
      ],
      "metadata": {
        "id": "3lqfyOkf1iMH"
      }
    }
  ],
  "metadata": {
    "colab": {
      "provenance": [],
      "toc_visible": true,
      "include_colab_link": true
    },
    "kernelspec": {
      "display_name": "Python 3",
      "name": "python3"
    },
    "language_info": {
      "name": "python"
    }
  },
  "nbformat": 4,
  "nbformat_minor": 0
}